{
 "cells": [
  {
   "cell_type": "code",
   "execution_count": null,
   "id": "171ebd03",
   "metadata": {},
   "outputs": [],
   "source": [
    "print(\"Testando Jupyter no VS Code!\")\n"
   ]
  }
 ],
 "metadata": {
  "kernelspec": {
   "display_name": "venv",
   "language": "python",
   "name": "python3"
  },
  "language_info": {
   "name": "python",
   "version": "3.12.7"
  }
 },
 "nbformat": 4,
 "nbformat_minor": 5
}
