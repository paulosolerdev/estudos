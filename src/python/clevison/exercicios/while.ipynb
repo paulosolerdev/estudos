{
 "cells": [
  {
   "cell_type": "code",
   "execution_count": 1,
   "id": "acc87e34",
   "metadata": {},
   "outputs": [
    {
     "name": "stdout",
     "output_type": "stream",
     "text": [
      "0\n",
      "1\n",
      "2\n",
      "3\n",
      "4\n",
      "5\n",
      "6\n",
      "7\n",
      "8\n",
      "9\n",
      "10\n"
     ]
    }
   ],
   "source": [
    "\"\"\"\n",
    "Exercício 1: Contagem de 1 a 10\n",
    "\n",
    "Escreva um programa que conte de 1 a 10 utilizando o laço while.\n",
    "\"\"\"\n",
    "i = 0\n",
    "\n",
    "while i <= 10:\n",
    "\n",
    "    print(i)\n",
    "    i += 1\n"
   ]
  },
  {
   "cell_type": "code",
   "execution_count": 3,
   "id": "142e8371",
   "metadata": {},
   "outputs": [
    {
     "name": "stdout",
     "output_type": "stream",
     "text": [
      "Soma total: 0\n"
     ]
    }
   ],
   "source": [
    "\"\"\"\n",
    "Exercício 2: Somar números até o usuário digitar 0\n",
    "\n",
    "Peça ao usuário para digitar números.\n",
    "\n",
    "Some esses números até que o usuário digite 0. Ao final, exiba a soma\n",
    "total.\n",
    "\"\"\"\n",
    "\n",
    "soma = 0\n",
    "numero = int(input(\"Digite um número (0 para sair): \"))\n",
    "\n",
    "while numero != 0:\n",
    "    soma += numero\n",
    "    numero = int(input(\"Digite um número (0 para sair): \"))\n",
    "\n",
    "print(f\"Soma total: {soma}\")\n"
   ]
  },
  {
   "cell_type": "code",
   "execution_count": 7,
   "id": "da6978a7",
   "metadata": {},
   "outputs": [
    {
     "name": "stdout",
     "output_type": "stream",
     "text": [
      "Senha correta. Acesso permitido.\n"
     ]
    }
   ],
   "source": [
    "\"\"\"\n",
    "Exercício 3: Senha correta\n",
    "\n",
    "Peça ao usuário para digitar uma senha. Continue pedindo até que ele\n",
    "digite a senha correta (\"python123\").\n",
    "\"\"\"\n",
    "\n",
    "senha = input(\"Digite a senha: \")\n",
    "\n",
    "while senha != \"python123\":\n",
    "    senha = input(\"Senha incorreta. Tente novamente: \")\n",
    "\n",
    "print(\"Senha correta. Acesso permitido.\")\n"
   ]
  },
  {
   "cell_type": "code",
   "execution_count": 9,
   "id": "5d98f097",
   "metadata": {},
   "outputs": [
    {
     "name": "stdout",
     "output_type": "stream",
     "text": [
      "Você digitou o número 4.\n"
     ]
    }
   ],
   "source": [
    "\"\"\"\n",
    "Exercício 4: Número entre 1 e 10\n",
    "\n",
    "Peça ao usuário para digitar um número entre 1 e 10. Continue pedindo\n",
    "até que ele digite um número válido.\n",
    "\"\"\"\n",
    "\n",
    "numero = int(input('Digite um número entre 1 e 10: '))\n",
    "\n",
    "while numero < 1 or numero > 10:\n",
    "    numero = int(input('Número inválido. Digite um número entre 1 e 10: '))\n",
    "\n",
    "print(f'Você digitou o número {numero}.')\n"
   ]
  },
  {
   "cell_type": "code",
   "execution_count": 11,
   "id": "eda9599c",
   "metadata": {},
   "outputs": [
    {
     "name": "stdout",
     "output_type": "stream",
     "text": [
      "10\n",
      "9\n",
      "8\n",
      "7\n",
      "6\n",
      "5\n",
      "4\n",
      "3\n",
      "2\n",
      "1\n",
      "Fogo!\n"
     ]
    }
   ],
   "source": [
    "\"\"\"\n",
    "Exercício 5: Contagem regressiva de 10 a 1\n",
    "\n",
    "Escreva um programa que faça uma contagem regressiva de 10 a 1 e,\n",
    "ao final, imprima \"Fogo!\". Utilizando o while.\n",
    "\"\"\"\n",
    "\n",
    "i = 10\n",
    "\n",
    "while i >= 1:\n",
    "    print(i)\n",
    "    i -= 1\n",
    "\n",
    "print(\"Fogo!\")\n"
   ]
  },
  {
   "cell_type": "code",
   "execution_count": 16,
   "id": "65a33be8",
   "metadata": {},
   "outputs": [
    {
     "name": "stdout",
     "output_type": "stream",
     "text": [
      "Soma dos números pares de 1 a 100: 2550\n"
     ]
    }
   ],
   "source": [
    "\"\"\"\n",
    "Exercício 6: Somar números pares de 1 a 100\n",
    "\n",
    "Escreva um programa que some todos os números pares de 0 a 100, \n",
    "utilizando o while.\n",
    "\"\"\"\n",
    "\n",
    "soma = 0\n",
    "i = 2\n",
    "\n",
    "while i <= 100:\n",
    "    soma += i\n",
    "    i += 2\n",
    "\n",
    "print(f\"Soma dos números pares de 1 a 100: {soma}\")\n"
   ]
  },
  {
   "cell_type": "code",
   "execution_count": 20,
   "id": "66ddcebc",
   "metadata": {},
   "outputs": [
    {
     "name": "stdout",
     "output_type": "stream",
     "text": [
      "O número tem 1 dígitos.\n"
     ]
    }
   ],
   "source": [
    "\"\"\"\n",
    "Exercício 7: Contar dígitos de um número\n",
    "\n",
    "Peça ao usuário para digitar um número e conte quantos dígitos ele tem.\n",
    "\n",
    "Utilizando o while.\n",
    "\"\"\"\n",
    "\n",
    "numero = int(input(\"Digite um número: \"))\n",
    "\n",
    "contador = 0\n",
    "\n",
    "while numero > 0:\n",
    "    numero //= 10\n",
    "    contador += 1\n",
    "\n",
    "print(f\"O número tem {contador} dígitos.\")\n"
   ]
  },
  {
   "cell_type": "code",
   "execution_count": 26,
   "id": "0d11e6df",
   "metadata": {},
   "outputs": [
    {
     "name": "stdout",
     "output_type": "stream",
     "text": [
      "4 x 1 = 4\n",
      "4 x 2 = 8\n",
      "4 x 3 = 12\n",
      "4 x 4 = 16\n",
      "4 x 5 = 20\n",
      "4 x 6 = 24\n",
      "4 x 7 = 28\n",
      "4 x 8 = 32\n",
      "4 x 9 = 36\n",
      "4 x 10 = 40\n"
     ]
    }
   ],
   "source": [
    "\"\"\"\n",
    "Exercício 8: Multiplicação sucessiva\n",
    "\n",
    "Escreva um programa que peça um número e exiba sua tabuada\n",
    "(de 1 a 10) utilizando o while.\n",
    "\"\"\"\n",
    "\n",
    "numero = int(input(\"Digite um número para exibir sua tabuada: \"))\n",
    "\n",
    "i = 1\n",
    "\n",
    "while i <= 10:\n",
    "    print(f\"{numero} x {i} = {numero * i}\")\n",
    "    i += 1\n"
   ]
  },
  {
   "cell_type": "code",
   "execution_count": 28,
   "id": "5b2e065d",
   "metadata": {},
   "outputs": [
    {
     "name": "stdout",
     "output_type": "stream",
     "text": [
      "Você digitou a idade 40.\n"
     ]
    }
   ],
   "source": [
    "\"\"\"\n",
    "Exercício 9: Validar entrada de idade\n",
    "\n",
    "Peça ao usuário para digitar sua idade. Continue pedindo até que\n",
    "ele digite uma idade válida (entre 1 e 120 anos).\n",
    "\"\"\"\n",
    "\n",
    "idade = int(input(\"Digite sua idade: \"))\n",
    "\n",
    "while idade < 0 or idade > 120:\n",
    "    idade = int(input(\"Idade inválida. Digite sua idade: \"))\n",
    "\n",
    "print(f\"Você digitou a idade {idade}.\")\n"
   ]
  },
  {
   "cell_type": "code",
   "execution_count": 30,
   "id": "ae9487ae",
   "metadata": {},
   "outputs": [
    {
     "name": "stdout",
     "output_type": "stream",
     "text": [
      "Parabéns! Você acertou o número secreto.\n"
     ]
    }
   ],
   "source": [
    "\"\"\"\n",
    "Exercício 10: Adivinhar número secreto\n",
    "\n",
    "Escreva um programa que peça ao usuário para adivinhar um número\n",
    "secreto (por exemplo, 7). Continue pedindo até que ele acerte.\n",
    "\"\"\"\n",
    "\n",
    "numero_secreto = 7\n",
    "\n",
    "numero = int(input(\"Adivinhe o número secreto: \"))\n",
    "\n",
    "while numero != numero_secreto:\n",
    "    numero = int(input(\"Número incorreto. Tente novamente: \"))\n",
    "\n",
    "print(\"Parabéns! Você acertou o número secreto.\")\n"
   ]
  },
  {
   "cell_type": "code",
   "execution_count": 39,
   "id": "ea45fc4f",
   "metadata": {},
   "outputs": [
    {
     "name": "stdout",
     "output_type": "stream",
     "text": [
      "O número binário é: 1111\n"
     ]
    }
   ],
   "source": [
    "\"\"\"\n",
    "Exercício 11: Converter decimal para binário\n",
    "\n",
    "Peça ao usuário para digitar um número decimal e converta-o para binário\n",
    "utilizando o while.\n",
    "\"\"\"\n",
    "\n",
    "numero = int(input(\"Digite um número decimal: \"))\n",
    "\n",
    "binario = \"\"\n",
    "\n",
    "while numero > 0:\n",
    "    binario = str(numero % 2) + binario\n",
    "    numero //= 2\n",
    "\n",
    "print(f\"O número binário é: {binario}\")\n"
   ]
  },
  {
   "cell_type": "code",
   "execution_count": 53,
   "id": "b81527f7",
   "metadata": {},
   "outputs": [
    {
     "name": "stdout",
     "output_type": "stream",
     "text": [
      "A string invertida é: s\n"
     ]
    }
   ],
   "source": [
    "\"\"\"\n",
    "Exercício 12: Inverter uma string\n",
    "\n",
    "Peça ao usuário para digitar uma palavra e inverta-a utilizando o while.\n",
    "\"\"\"\n",
    "\n",
    "palavra = input(\"Digite uma string: \")\n",
    "\n",
    "palavra_invertida = \"\"\n",
    "\n",
    "i = len(palavra) - 1\n",
    "\n",
    "while i >= 0:\n",
    "    palavra_invertida += palavra[i]\n",
    "    i -= 1\n",
    "\n",
    "print(f\"A string invertida é: {palavra_invertida}\")\n"
   ]
  },
  {
   "cell_type": "code",
   "execution_count": 55,
   "id": "5c656df3",
   "metadata": {},
   "outputs": [
    {
     "name": "stdout",
     "output_type": "stream",
     "text": [
      "O caractere 'o' aparece 1 vezes na string.\n"
     ]
    }
   ],
   "source": [
    "\"\"\"\n",
    "Exercício 13: Contar quantas vezes um caractere aparece em uma string\n",
    "\n",
    "Peça ao usuário para digitar uma string e um caractere. Conte quantas\n",
    "vezes aquele caractere aparece na string utilizando o while.\n",
    "\"\"\"\n",
    "\n",
    "string = input(\"Digite uma string: \")\n",
    "caractere = input(\"Digite um caractere: \")\n",
    "\n",
    "contador = 0\n",
    "i = 0\n",
    "\n",
    "while i < len(string):\n",
    "    if string[i] == caractere:\n",
    "        contador += 1\n",
    "    i += 1\n",
    "\n",
    "print(f\"O caractere '{caractere}' aparece {contador} vezes na string.\")\n"
   ]
  },
  {
   "cell_type": "code",
   "execution_count": 1,
   "id": "d956fc35",
   "metadata": {},
   "outputs": [
    {
     "name": "stdout",
     "output_type": "stream",
     "text": [
      "Nenhum número positivo foi digitado.\n"
     ]
    }
   ],
   "source": [
    "\"\"\"\n",
    "Exercício 14: Média de números positivos\n",
    "\n",
    "Peça ao usuário uma sequência de números e calcule a média apenas\n",
    "dos números positivos. O loop termina quando o usuário digita 0.\n",
    "\"\"\"\n",
    "\n",
    "soma = 0\n",
    "contador = 0\n",
    "\n",
    "numero = float(input(\"Digite um número (0 para sair): \"))\n",
    "\n",
    "while numero != 0:\n",
    "    if numero > 0:\n",
    "        soma += numero\n",
    "        contador += 1\n",
    "    numero = float(input(\"Digite um número (0 para sair): \"))\n",
    "\n",
    "if contador > 0:\n",
    "    media = soma / contador\n",
    "    print(f\"Média dos números positivos: {media:.2f}\")\n",
    "else:\n",
    "    print(\"Nenhum número positivo foi digitado.\")\n"
   ]
  },
  {
   "cell_type": "code",
   "execution_count": 1,
   "id": "dffe7733",
   "metadata": {},
   "outputs": [
    {
     "name": "stdout",
     "output_type": "stream",
     "text": [
      "Soma atual: 1.00\n",
      "Soma atual: 3.00\n",
      "Soma atual: 6.00\n",
      "Soma atual: 10.00\n",
      "Soma atual: 15.00\n",
      "Soma atual: 21.00\n",
      "Soma atual: 28.00\n",
      "Soma atual: 36.00\n",
      "Soma atual: 45.00\n",
      "Soma atual: 53.00\n",
      "Soma atual: 60.00\n",
      "Soma atual: 68.00\n",
      "Soma atual: 77.00\n",
      "Soma atual: 83.00\n",
      "Soma atual: 88.00\n",
      "Soma atual: 92.00\n",
      "Soma atual: 99.00\n",
      "Soma atual: 107.00\n",
      "A soma dos números digitados é: 107.00\n"
     ]
    }
   ],
   "source": [
    "\"\"\"\n",
    "Exercício 15: Somar números até atingir um valor limite\n",
    "\n",
    "Peça ao usuário para digitar números até que a soma dos números\n",
    "digitados atinja ou ultrapasse 100.\n",
    "\"\"\"\n",
    "\n",
    "soma = 0\n",
    "\n",
    "numero = float(input(\"Digite um número: \"))\n",
    "\n",
    "while soma < 100:\n",
    "    soma += numero\n",
    "    numero = float(input(\"Digite um número: \"))\n",
    "    print(f\"Soma atual: {soma:.2f}\")\n",
    "\n",
    "print(f\"A soma dos números digitados é: {soma:.2f}\")\n"
   ]
  }
 ],
 "metadata": {
  "kernelspec": {
   "display_name": ".venv",
   "language": "python",
   "name": "python3"
  },
  "language_info": {
   "codemirror_mode": {
    "name": "ipython",
    "version": 3
   },
   "file_extension": ".py",
   "mimetype": "text/x-python",
   "name": "python",
   "nbconvert_exporter": "python",
   "pygments_lexer": "ipython3",
   "version": "3.12.3"
  }
 },
 "nbformat": 4,
 "nbformat_minor": 5
}
