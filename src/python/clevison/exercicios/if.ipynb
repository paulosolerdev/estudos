{
 "cells": [
  {
   "cell_type": "code",
   "execution_count": 3,
   "id": "9edcf167",
   "metadata": {},
   "outputs": [
    {
     "name": "stdout",
     "output_type": "stream",
     "text": [
      "O número 5.0 é maior que 4.0.\n"
     ]
    }
   ],
   "source": [
    "\"\"\"\n",
    "Exercício 1: Comparação de Números:\n",
    "\n",
    "Solicite dois números ao usuário. Use if para imprimir qual dos dois\n",
    "é maior, ou se eles são iguais.\n",
    "\"\"\"\n",
    "# Solicita dois números ao usuário\n",
    "num1 = float(input(\"Digite o primeiro número: \"))\n",
    "num2 = float(input(\"Digite o segundo número: \"))\n",
    "\n",
    "# Compara os números e imprime o resultado\n",
    "if num1 > num2:\n",
    "    print(f\"O número {num1} é maior que {num2}.\")\n",
    "elif num1 < num2:\n",
    "    print(f\"O número {num2} é maior que {num1}.\")\n",
    "else:\n",
    "    print(f\"Os números {num1} e {num2} são iguais.\")\n",
    "\n",
    "\n"
   ]
  },
  {
   "cell_type": "code",
   "execution_count": 6,
   "id": "bbe6be65",
   "metadata": {},
   "outputs": [
    {
     "name": "stdout",
     "output_type": "stream",
     "text": [
      "O número 4 é par.\n"
     ]
    }
   ],
   "source": [
    "#==================================================================#\n",
    "\n",
    "\"\"\"\n",
    " Exercício 2: Par ou Ímpar:\n",
    "Solicite um número ao usuário e verifique se ele é par ou ímpar.\n",
    "Imprima o resultado.\n",
    "\"\"\"\n",
    "\n",
    "# Solicita um número ao usuário\n",
    "num = int(input(\"Digite um número: \"))\n",
    "\n",
    "# Verifica se o número é par ou ímpar\n",
    "if num % 2 == 0:\n",
    "    print(f\"O número {num} é par.\")\n",
    "else:\n",
    "    print(f\"O número {num} é ímpar.\")\n",
    "\n",
    "#==================================================================#\n"
   ]
  },
  {
   "cell_type": "code",
   "execution_count": 10,
   "id": "9ffb3944",
   "metadata": {},
   "outputs": [
    {
     "name": "stdout",
     "output_type": "stream",
     "text": [
      "Muito frio.\n"
     ]
    }
   ],
   "source": [
    "\"\"\"\n",
    "Exercício 3: Verificação de Temperatura:\n",
    "\n",
    "Peça ao usuário para digitar a temperatura atual.\n",
    "\n",
    "- Se a temperatura estiver abaixo de 10ºC, imprima \"Muito frio\".\n",
    "- Se a temperatura estiver entre 10ºC e 25ºC, imprima \"Clima agradável!\".\n",
    "- Se a temperatura estiver acima de 25ºC, imprima \"Está quente!\".\n",
    "\"\"\"\n",
    "\n",
    "# Solicita a temperatura ao usuário\n",
    "temperatura = float(input(\"Digite a temperatura atual em ºC: \"))\n",
    "\n",
    "# Verifica a temperatura e imprime o resultado\n",
    "if temperatura < 10:\n",
    "    print(\"Muito frio.\")\n",
    "elif 10 <= temperatura <= 25:\n",
    "    print(\"Clima agradável!\")\n",
    "else:\n",
    "    print(\"Está quente!\")\n"
   ]
  },
  {
   "cell_type": "code",
   "execution_count": 3,
   "id": "1c1344db",
   "metadata": {},
   "outputs": [
    {
     "name": "stdout",
     "output_type": "stream",
     "text": [
      "Você está isento de impostos.\n"
     ]
    }
   ],
   "source": [
    "\"\"\"\n",
    "Exercício 4: Cálculo de Imposto de Renda:\n",
    "\n",
    "Solicite ao usuário seu salário mensal. Se o salário for superior a R$5000,00, \n",
    "calcule e imprima o imposto devido de 20% sobre o salário.\n",
    "\n",
    "Caso contrário, imprima que o usuário está isento de impostos.\n",
    "\"\"\"\n",
    "\n",
    "# Solicita o salário mensal ao usuário\n",
    "salario = float(input(\"Digite seu salário mensal: R$ \"))\n",
    "\n",
    "# Verifica se o salário é superior a R$5000,00 e calcula o imposto\n",
    "if salario > 5000:\n",
    "    imposto = salario * 0.20\n",
    "    print(f\"Imposto devido: R$ {imposto:.2f}\")\n",
    "else:\n",
    "    print(\"Você está isento de impostos.\")\n"
   ]
  },
  {
   "cell_type": "code",
   "execution_count": 7,
   "id": "0ec856f5",
   "metadata": {},
   "outputs": [
    {
     "name": "stdout",
     "output_type": "stream",
     "text": [
      "A palavra 'ana' é um palíndromo.\n"
     ]
    }
   ],
   "source": [
    "\"\"\"\n",
    "Exercício 5: Verificar se uma palavra é um palíndromo:\n",
    "\n",
    "Escreva um programa que verifique se uma palavra é um palíndromo.\n",
    "Um palíndromo é uma palavra que pode ser lida da mesma forma de trás\n",
    "para frente.\n",
    "\"\"\"\n",
    "\n",
    "# Solicita uma palavra ao usuário\n",
    "palavra = input(\"Digite uma palavra: \").replace(\" \", \"\").lower()\n",
    "\n",
    "# Verifica se a palavra é um palíndromo\n",
    "if palavra == palavra[::-1]:\n",
    "    print(f\"A palavra '{palavra}' é um palíndromo.\")\n",
    "else:\n",
    "    print(f\"A palavra '{palavra}' não é um palíndromo.\")\n"
   ]
  },
  {
   "cell_type": "code",
   "execution_count": 9,
   "id": "94eb1792",
   "metadata": {},
   "outputs": [
    {
     "name": "stdout",
     "output_type": "stream",
     "text": [
      "O maior número é: 56.0\n"
     ]
    }
   ],
   "source": [
    "\"\"\"\n",
    "Exercício 6: Verificar o maior de três números:\n",
    "\n",
    "Peça ao usuário para digitar três números e imprima o maior deles.\n",
    "\"\"\"\n",
    "\n",
    "# Solicita três números ao usuário\n",
    "num1 = float(input(\"Digite o primeiro número: \"))\n",
    "num2 = float(input(\"Digite o segundo número: \"))\n",
    "num3 = float(input(\"Digite o terceiro número: \"))\n",
    "\n",
    "# Verifica qual dos três números é o maior e imprime o resultado\n",
    "if num1 >= num2 and num1 >= num3:\n",
    "    print(f\"O maior número é: {num1}\")\n",
    "elif num2 >= num1 and num2 >= num3:\n",
    "    print(f\"O maior número é: {num2}\")\n",
    "else:\n",
    "    print(f\"O maior número é: {num3}\")\n"
   ]
  },
  {
   "cell_type": "code",
   "execution_count": 12,
   "id": "78439d63",
   "metadata": {},
   "outputs": [
    {
     "name": "stdout",
     "output_type": "stream",
     "text": [
      "Você é uma criança.\n"
     ]
    }
   ],
   "source": [
    "\"\"\"\n",
    "Exercício 7: Categorizar idade\n",
    "\n",
    "Peça a idade de uma pessoa e classifique-a em uma das seguintes categorias:\n",
    "\n",
    "- Criança (0-12 anos)\n",
    "- Adolescente (13-17 anos)\n",
    "- Adulto (18-64 anos)\n",
    "- Idoso (65 anos ou mais)\n",
    "\"\"\"\n",
    "\n",
    "# Solicita a idade ao usuário\n",
    "idade = int(input(\"Digite sua idade: \"))\n",
    "\n",
    "# Verifica a categoria de idade e imprime o resultado\n",
    "if idade <= 12:\n",
    "    print(\"Você é uma criança.\")\n",
    "elif 13 <= idade <= 17:\n",
    "    print(\"Você é um adolescente.\")\n",
    "elif 18 <= idade <= 64:\n",
    "    print(\"Você é um adulto.\")\n",
    "elif idade >= 65:\n",
    "    print(\"Você é um idoso.\")\n",
    "else:\n",
    "    print(\"Idade inválida.\")\n"
   ]
  },
  {
   "cell_type": "code",
   "execution_count": 5,
   "id": "a95ae46d",
   "metadata": {},
   "outputs": [
    {
     "name": "stdout",
     "output_type": "stream",
     "text": [
      "Classificação: A\n"
     ]
    }
   ],
   "source": [
    "\"\"\"\n",
    "Exercício 8: Classificar nota\n",
    "\n",
    "Peça a note de um aluno e classifique-a em uma das seguintes categorias:\n",
    "- A (9.0 a 10.0)\n",
    "- B (7.0 a 8.9)\n",
    "- C (5.0 a 6.9)\n",
    "- D (0.0 a 4.9)\n",
    "\"\"\"\n",
    "\n",
    "# Solicita a nota ao usuário\n",
    "nota = float(input(\"Digite a nota do aluno: \"))\n",
    "\n",
    "# Verifica a categoria da nota e imprime o resultado\n",
    "if 9.0 <= nota <= 10.0:\n",
    "    print(\"Classificação: A\")\n",
    "elif 7.0 <= nota < 9.0:\n",
    "    print(\"Classificação: B\")\n",
    "elif 5.0 <= nota < 7.0:\n",
    "    print(\"Classificação: C\")\n",
    "elif 0.0 <= nota < 5.0:\n",
    "    print(\"Classificação: D\")\n",
    "else:\n",
    "    print(\"Nota inválida.\")\n"
   ]
  },
  {
   "cell_type": "code",
   "execution_count": 10,
   "id": "9ae854f4",
   "metadata": {},
   "outputs": [
    {
     "name": "stdout",
     "output_type": "stream",
     "text": [
      "O número 5 é divisível por 5.\n"
     ]
    }
   ],
   "source": [
    "\"\"\"\n",
    "Exercício 9: Verificar a divisibilidade por 3 e 5\n",
    "\n",
    "Peça um número ao usuário e verifique se ele é divisível por 3, 5 ou ambos.\n",
    "Imprima o resultado.\n",
    "\"\"\"\n",
    "\n",
    "# Solicita um número ao usuário\n",
    "num = int(input(\"Digite um número: \"))\n",
    "\n",
    "# Verifica a divisibilidade por 3, 5 ou ambos e imprime o resultado\n",
    "if num % 3 == 0 and num % 5 == 0:\n",
    "    print(f\"O número {num} é divisível por 3 e 5.\")\n",
    "elif num % 3 == 0:\n",
    "    print(f\"O número {num} é divisível por 3.\")\n",
    "elif num % 5 == 0:\n",
    "    print(f\"O número {num} é divisível por 5.\")\n",
    "else:\n",
    "    print(f\"O número {num} não é divisível por 3 nem por 5.\")\n"
   ]
  },
  {
   "cell_type": "code",
   "execution_count": 13,
   "id": "49bf4700",
   "metadata": {},
   "outputs": [
    {
     "name": "stdout",
     "output_type": "stream",
     "text": [
      "Salário sem bônus: R$ 3500.00\n"
     ]
    }
   ],
   "source": [
    "\"\"\"\n",
    "Exercício 10: Cálculo de salário com bônus\n",
    "\n",
    "Peça o salário de um funcionário e o número de anos de trabalho.\n",
    "Se ele trabalhou mais de 5 anos, adicione um bônus de 10% ao salário.\n",
    "\"\"\"\n",
    "\n",
    "# Solicita o salário e o número de anos de trabalho ao usuário\n",
    "salario = float(input(\"Digite o salário do funcionário: R$ \"))\n",
    "anos_trabalho = int(input(\"Digite o número de anos de trabalho: \"))\n",
    "\n",
    "# Verifica se o funcionário trabalhou mais de 5 anos e calcula o bônus\n",
    "if anos_trabalho > 5:\n",
    "    bonus = salario * 0.10\n",
    "    salario_final = salario + bonus\n",
    "    print(f\"Salário com bônus: R$ {salario_final:.2f}\")\n",
    "else:\n",
    "    print(f\"Salário sem bônus: R$ {salario:.2f}\")\n"
   ]
  },
  {
   "cell_type": "code",
   "execution_count": 18,
   "id": "5d385f2c",
   "metadata": {},
   "outputs": [
    {
     "name": "stdout",
     "output_type": "stream",
     "text": [
      "Salário com aumento: R$ 73500.00\n"
     ]
    }
   ],
   "source": [
    "\"\"\"\n",
    "Exercício 11: Calcular aumento salarial\n",
    "\n",
    "Peça o salário de um funcionário e aplique um aumento baseado nas\n",
    "seguintes regras:\n",
    "\n",
    "Aumento de 20% se o salário for menor que R$ 1.000,00.\n",
    "Aumento de 10% se o salário estiver entre R$ 1.000,00 e R$ 2.000,00.\n",
    "Aumento de 5% se o salário for maior que R$ 2.000,00.\n",
    "\"\"\"\n",
    "\n",
    "# Solicita o salário do funcionário\n",
    "salario = float(input(\"Digite o salário do funcionário: R$ \"))\n",
    "\n",
    "# Verifica a faixa salarial e calcula o aumento\n",
    "if salario < 1000:\n",
    "    aumento = salario * 0.20\n",
    "    salario_final = salario + aumento\n",
    "    print(f\"Salário com aumento: R$ {salario_final:.2f}\")\n",
    "elif salario <= 2000:\n",
    "    aumento = salario * 0.10\n",
    "    salario_final = salario + aumento\n",
    "    print(f\"Salário com aumento: R$ {salario_final:.2f}\")\n",
    "elif salario > 2000:\n",
    "    aumento = salario * 0.05\n",
    "    salario_final = salario + aumento\n",
    "    print(f\"Salário com aumento: R$ {salario_final:.2f}\")\n",
    "else:\n",
    "    print(\"Salário inválido.\")\n"
   ]
  },
  {
   "cell_type": "code",
   "execution_count": 21,
   "id": "fd34231e",
   "metadata": {},
   "outputs": [
    {
     "name": "stdout",
     "output_type": "stream",
     "text": [
      "O ano 2026 não é bissexto.\n"
     ]
    }
   ],
   "source": [
    "\"\"\"\n",
    "Exercício 12: Verificar ano bissexto\n",
    "\n",
    "Peça um ano ao usuário e verifique se ele é bissexto.\n",
    "Um ano é bissexto se for divisível por 4, exceto os anos que são\n",
    "divisíveis por 100, a menos que sejam divisíveis por 400.\n",
    "\"\"\"\n",
    "\n",
    "# Solicita um ano ao usuário\n",
    "ano = int(input(\"Digite um ano: \"))\n",
    "\n",
    "# Verifica se o ano é bissexto\n",
    "if (ano % 4 == 0 and ano % 100 != 0) or (ano % 400 == 0):\n",
    "    print(f\"O ano {ano} é bissexto.\")\n",
    "else:\n",
    "    print(f\"O ano {ano} não é bissexto.\")\n"
   ]
  },
  {
   "cell_type": "code",
   "execution_count": 24,
   "id": "5430da78",
   "metadata": {},
   "outputs": [
    {
     "name": "stdout",
     "output_type": "stream",
     "text": [
      "Valor com desconto: R$ 540.00\n"
     ]
    }
   ],
   "source": [
    "\"\"\"\n",
    "Exercício 13: Calcular valor com desconto\n",
    "\n",
    "Peça o valor de uma compra e calcule o valor com desconto conforme\n",
    "    as seguintes regras:\n",
    "\n",
    "- Desconto de 5% se o valor for entre R$100,00 e R$500,00.\n",
    "- Desconto de 10% se o valor for entre R$500 e R$1.000,00.\n",
    "- Desconto de 15% se o valor for maior que R$1.000,00.\n",
    "\"\"\"\n",
    "\n",
    "# Solicita o valor da compra ao usuário\n",
    "valor_compra = float(input(\"Digite o valor da compra: R$ \"))\n",
    "\n",
    "# Verifica a faixa de valor e calcula o desconto\n",
    "if 100 <= valor_compra < 500:\n",
    "    desconto = valor_compra * 0.05\n",
    "    valor_final = valor_compra - desconto\n",
    "    print(f\"Valor com desconto: R$ {valor_final:.2f}\")\n",
    "elif 500 <= valor_compra < 1000:\n",
    "    desconto = valor_compra * 0.10\n",
    "    valor_final = valor_compra - desconto\n",
    "    print(f\"Valor com desconto: R$ {valor_final:.2f}\")\n",
    "elif valor_compra >= 1000:\n",
    "    desconto = valor_compra * 0.15\n",
    "    valor_final = valor_compra - desconto\n",
    "    print(f\"Valor com desconto: R$ {valor_final:.2f}\")\n",
    "else:\n",
    "    print(\"Valor inválido.\")\n"
   ]
  },
  {
   "cell_type": "code",
   "execution_count": 25,
   "id": "a346f2db",
   "metadata": {},
   "outputs": [
    {
     "name": "stdout",
     "output_type": "stream",
     "text": [
      "Senha válida.\n"
     ]
    }
   ],
   "source": [
    "\"\"\"\n",
    "Exercício 14: Verificar a validade de uma senha\n",
    "\n",
    "Peça ao usuário uma senha e verifique se ela atende aos seguintes\n",
    "critérios:\n",
    "\n",
    "Pelo menos 8 caracteres.\n",
    "Pelo menos uma letra maiúscula.\n",
    "Pelo menos um número.\n",
    "Pelo menos um caractere especial (!@#$%^&*).\n",
    "\"\"\"\n",
    "\n",
    "# Solicita a senha ao usuário\n",
    "senha = input(\"Digite uma senha: \")\n",
    "\n",
    "tem_maiuscula = False\n",
    "tem_numero = False\n",
    "tem_caractere_especial = False\n",
    "\n",
    "for c in senha:\n",
    "    if c.isupper():\n",
    "        tem_maiuscula = True\n",
    "    elif c.isdigit():\n",
    "        tem_numero = True\n",
    "    elif c in \"!@#$%^&*()\":\n",
    "        tem_caractere_especial = True\n",
    "        break\n",
    "\n",
    "if len(senha) >= 8 and tem_maiuscula and tem_numero and tem_caractere_especial:\n",
    "    print(\"Senha válida.\")\n",
    "else:\n",
    "    print(\"Senha inválida.\")\n"
   ]
  }
 ],
 "metadata": {
  "kernelspec": {
   "display_name": ".venv",
   "language": "python",
   "name": "python3"
  },
  "language_info": {
   "codemirror_mode": {
    "name": "ipython",
    "version": 3
   },
   "file_extension": ".py",
   "mimetype": "text/x-python",
   "name": "python",
   "nbconvert_exporter": "python",
   "pygments_lexer": "ipython3",
   "version": "3.12.3"
  }
 },
 "nbformat": 4,
 "nbformat_minor": 5
}
