{
 "cells": [
  {
   "cell_type": "code",
   "execution_count": 2,
   "id": "3e2c751a",
   "metadata": {},
   "outputs": [
    {
     "name": "stdout",
     "output_type": "stream",
     "text": [
      "1\n",
      "2\n",
      "3\n",
      "4\n",
      "5\n",
      "6\n",
      "7\n",
      "8\n",
      "9\n",
      "10\n"
     ]
    }
   ],
   "source": [
    "\"\"\"\n",
    "1. Imprimir números del 1 al 10.\n",
    "\n",
    "Use um laço de repetição para imprimir os números de 1 a 10.\n",
    "\"\"\"\n",
    "\n",
    "for i in range(1, 11):\n",
    "    print(i)\n"
   ]
  },
  {
   "cell_type": "code",
   "execution_count": 4,
   "id": "ec5c4d29",
   "metadata": {},
   "outputs": [
    {
     "name": "stdout",
     "output_type": "stream",
     "text": [
      "2\n",
      "4\n",
      "6\n",
      "8\n",
      "10\n",
      "12\n",
      "14\n",
      "16\n",
      "18\n",
      "20\n"
     ]
    }
   ],
   "source": [
    "\"\"\"\n",
    "2. Imprimir números pares de 1 a 20.\n",
    "\n",
    "Escreva um programa que use for para imprimir os números pares de 1 a 20.\n",
    "\"\"\"\n",
    "\n",
    "for i in range(2, 21, 2):\n",
    "    print(i)\n"
   ]
  },
  {
   "cell_type": "code",
   "execution_count": 7,
   "id": "66d8169e",
   "metadata": {},
   "outputs": [
    {
     "name": "stdout",
     "output_type": "stream",
     "text": [
      "Soma de 1 a 100: 5050\n"
     ]
    }
   ],
   "source": [
    "\"\"\"\n",
    "3. Somar números de 1 a 100.\n",
    "\n",
    "Use um laço for para somar todos os números de 1 a 100 e imprimir o resultado.\n",
    "\"\"\"\n",
    "\n",
    "soma = 0\n",
    "\n",
    "for i in range(1, 101):\n",
    "    soma += i\n",
    "\n",
    "print(f\"Soma de 1 a 100: {soma}\")\n"
   ]
  },
  {
   "cell_type": "code",
   "execution_count": 9,
   "id": "d8302161",
   "metadata": {},
   "outputs": [
    {
     "name": "stdout",
     "output_type": "stream",
     "text": [
      "5\n",
      "10\n",
      "15\n",
      "20\n",
      "25\n"
     ]
    }
   ],
   "source": [
    "\"\"\"\n",
    "4. Imprimir os elementos de uma lista.\n",
    "\n",
    "Dada uma lista de números [5, 10, 15, 20, 25], use um laço for para\n",
    "imprimir cada elemento da lista.\n",
    "\"\"\"\n",
    "\n",
    "numeros = [5, 10, 15, 20, 25]\n",
    "\n",
    "for numero in numeros:\n",
    "    print(numero)\n"
   ]
  },
  {
   "cell_type": "code",
   "execution_count": 13,
   "id": "97b4d345",
   "metadata": {},
   "outputs": [
    {
     "name": "stdout",
     "output_type": "stream",
     "text": [
      "A palavra '\"\"\"' tem 3 letras.\n"
     ]
    }
   ],
   "source": [
    "\"\"\"\n",
    "Contar letras em uma palavra.\n",
    "\n",
    "Escreva um programa que use for para contar quantas letras há em uma\n",
    "palavra fornecida pelo usuário.\n",
    "\"\"\"\n",
    "\n",
    "palavra = input(\"Digite uma palavra: \")\n",
    "\n",
    "contador = 0\n",
    "\n",
    "for letra in palavra:\n",
    "    contador += 1\n",
    "\n",
    "print(f\"A palavra '{palavra}' tem {contador} letras.\")\n"
   ]
  },
  {
   "cell_type": "code",
   "execution_count": 15,
   "id": "4a254066",
   "metadata": {},
   "outputs": [
    {
     "name": "stdout",
     "output_type": "stream",
     "text": [
      "1 * 3 = 3\n",
      "2 * 3 = 6\n",
      "3 * 3 = 9\n",
      "4 * 3 = 12\n",
      "5 * 3 = 15\n"
     ]
    }
   ],
   "source": [
    "\"\"\"\n",
    "6. Multiplicação de cada número por 3.\n",
    "\n",
    "Dada uma lista de números [1, 2, 3, 4, 5], use um laço for para\n",
    "multiplicar cada número por 3 e imprimir o resultado.\n",
    "\"\"\"\n",
    "\n",
    "numeros = [1, 2, 3, 4, 5]\n",
    "\n",
    "for numero in numeros:\n",
    "    resultado = numero * 3\n",
    "    print(f\"{numero} * 3 = {resultado}\")\n"
   ]
  },
  {
   "cell_type": "code",
   "execution_count": 17,
   "id": "a57dc124",
   "metadata": {},
   "outputs": [
    {
     "name": "stdout",
     "output_type": "stream",
     "text": [
      "P\n",
      "y\n",
      "t\n",
      "h\n",
      "o\n",
      "n\n"
     ]
    }
   ],
   "source": [
    "\"\"\"\n",
    "7. Imprimir caracteres de uma string.\n",
    "\n",
    "Dada uma string \"Python\", use um laço for para imprimir cada\n",
    "caractere da string.\n",
    "\"\"\"\n",
    "\n",
    "string = \"Python\"\n",
    "\n",
    "for caractere in string:\n",
    "    print(caractere)\n"
   ]
  },
  {
   "cell_type": "code",
   "execution_count": 19,
   "id": "dc4830c2",
   "metadata": {},
   "outputs": [
    {
     "name": "stdout",
     "output_type": "stream",
     "text": [
      "Números pares na lista: 5\n"
     ]
    }
   ],
   "source": [
    "\"\"\"\n",
    "8. Contar números pares em uma lista.\n",
    "\n",
    "Dada uma lista de números [2, 5, 6, 7, 8, 10, 12], use for para\n",
    "contar quantos números pares existem na lista e imprimir o resultado.\n",
    "\"\"\"\n",
    "\n",
    "numeros = [2, 5, 6, 7, 8, 10, 12]\n",
    "\n",
    "contador_pares = 0\n",
    "\n",
    "for numero in numeros:\n",
    "    if numero % 2 == 0:\n",
    "        contador_pares += 1\n",
    "\n",
    "print(f\"Números pares na lista: {contador_pares}\")\n"
   ]
  },
  {
   "cell_type": "code",
   "execution_count": 21,
   "id": "7d3b5845",
   "metadata": {},
   "outputs": [
    {
     "name": "stdout",
     "output_type": "stream",
     "text": [
      "1\n",
      "3\n",
      "5\n",
      "7\n",
      "9\n",
      "11\n",
      "13\n",
      "15\n",
      "17\n",
      "19\n"
     ]
    }
   ],
   "source": [
    "\"\"\"\n",
    "9. Imprimir números ímpares de 1 a 20.\n",
    "\n",
    "Use um laço for para imprimir os números ímpares de 1 a 20.\n",
    "\"\"\"\n",
    "\n",
    "for i in range(1, 21, 2):\n",
    "    print(i)\n"
   ]
  },
  {
   "cell_type": "code",
   "execution_count": 29,
   "id": "f57a9e4d",
   "metadata": {},
   "outputs": [
    {
     "name": "stdout",
     "output_type": "stream",
     "text": [
      "O fatorial de 6 é 720\n"
     ]
    }
   ],
   "source": [
    "\"\"\"\n",
    "10. Cálculo fatorial de um número.\n",
    "Escreva um programa que use for para calcular o fatorial de um número\n",
    "fornecido pelo usuário.\n",
    "\"\"\"\n",
    "\n",
    "numero = int(input(\"Digite um número para calcular o fatorial: \"))\n",
    "\n",
    "fatorial = 1\n",
    "\n",
    "for i in range(1, numero + 1):\n",
    "    fatorial *= i\n",
    "\n",
    "print(f\"O fatorial de {numero} é {fatorial}\")\n"
   ]
  },
  {
   "cell_type": "code",
   "execution_count": 36,
   "id": "23a3f7ee",
   "metadata": {},
   "outputs": [
    {
     "name": "stdout",
     "output_type": "stream",
     "text": [
      "3 é um número primo.\n"
     ]
    }
   ],
   "source": [
    "\"\"\"\n",
    "11. Verificar se um número é primo.\n",
    "Escreva um programa que use for para verificar se um número fornecido\n",
    "pelo usuário é primo.\n",
    "Um número é primo se for maior que 1 e não tiver divisores além de 1 e ele mesmo.\n",
    "\"\"\"\n",
    "\n",
    "numero = int(input(\"Digite um número para verificar se é primo: \"))\n",
    "\n",
    "if numero > 1:\n",
    "    primo = True\n",
    "    for i in range(2, numero):\n",
    "        # Verifica se o número é divisível por i\n",
    "        if numero % i == 0:\n",
    "            primo = False\n",
    "            break\n",
    "    if primo:\n",
    "        print(f\"{numero} é um número primo.\")\n",
    "    else:\n",
    "        print(f\"{numero} não é um número primo.\")\n",
    "else:\n",
    "    print(f\"{numero} não é um número primo.\")\n"
   ]
  },
  {
   "cell_type": "code",
   "execution_count": 38,
   "id": "bb4c958d",
   "metadata": {},
   "outputs": [
    {
     "name": "stdout",
     "output_type": "stream",
     "text": [
      "Lista após multiplicação: [34, 68, 85, 136, 170]\n"
     ]
    }
   ],
   "source": [
    "\"\"\"\n",
    "12. Multiplicar todos os elementos de uma lista por um valor fornecido.\n",
    "\n",
    "Dada uma lista de números, multiplique cada elemento por um valor fornecido pelo usuário\n",
    "e imprima o resultado.\n",
    "\n",
    "lista = [2, 4, 5, 8, 10]\n",
    "\"\"\"\n",
    "\n",
    "lista = [2, 4, 5, 8, 10]\n",
    "\n",
    "valor = int(input(\"Digite um valor para multiplicar os elementos da lista: \"))\n",
    "\n",
    "for i in range(len(lista)):\n",
    "    lista[i] *= valor\n",
    "\n",
    "print(\"Lista após multiplicação:\", lista)\n"
   ]
  },
  {
   "cell_type": "code",
   "execution_count": 41,
   "id": "5db8ffc0",
   "metadata": {},
   "outputs": [
    {
     "name": "stdout",
     "output_type": "stream",
     "text": [
      "A frase 'i love you' tem 5 vogais.\n"
     ]
    }
   ],
   "source": [
    "\"\"\"\n",
    "13. Contagem de vogais em uma frase.\n",
    "\n",
    "Escreva um programa que conte quantas vogais existem em uma frase fornecida pelo usuário.\n",
    "\"\"\"\n",
    "\n",
    "frase = input(\"Digite uma frase: \").lower()\n",
    "\n",
    "vogais = \"aeiouAEIOU\"\n",
    "contador_vogais = 0\n",
    "\n",
    "for letra in frase:\n",
    "    if letra in vogais:\n",
    "        contador_vogais += 1\n",
    "\n",
    "print(f\"A frase '{frase}' tem {contador_vogais} vogais.\")\n"
   ]
  },
  {
   "cell_type": "code",
   "execution_count": 43,
   "id": "f2b6b357",
   "metadata": {},
   "outputs": [
    {
     "name": "stdout",
     "output_type": "stream",
     "text": [
      "Lista ordenada: [1, 2, 5, 5, 6, 9]\n"
     ]
    }
   ],
   "source": [
    "\"\"\"\n",
    "14. Ordenar uma lista manualmente.\n",
    "Escreva um programa que use for para ordenar uma lista de números\n",
    "sem usar a função sort().\n",
    "\"\"\"\n",
    "\n",
    "numeros = [5, 2, 9, 1, 5, 6]\n",
    "tamanho = len(numeros)\n",
    "\n",
    "for i in range(tamanho):\n",
    "    for j in range(0, tamanho - i - 1):\n",
    "        if numeros[j] > numeros[j + 1]:\n",
    "            # Troca os elementos\n",
    "            numeros[j], numeros[j + 1] = numeros[j + 1], numeros[j]\n",
    "\n",
    "print(\"Lista ordenada:\", numeros)\n"
   ]
  },
  {
   "cell_type": "code",
   "execution_count": 49,
   "id": "6bbe4efc",
   "metadata": {},
   "outputs": [
    {
     "name": "stdout",
     "output_type": "stream",
     "text": [
      "aulua é um palíndromo.\n"
     ]
    }
   ],
   "source": [
    "\"\"\"\n",
    "15. Verificar palíndromo.\n",
    "\n",
    "Escreva um programa que use for para verificar se uma palavra fornecida\n",
    "pelo usuário é um palíndromo (lê-se da mesma forma de trás para frente).\n",
    "\"\"\"\n",
    "\n",
    "palavra = input(\"Digite uma palavra: \").lower()\n",
    "palavra_invertida = \"\"\n",
    "tamanho = len(palavra)\n",
    "\n",
    "for i in range(tamanho - 1, -1, -1):\n",
    "    palavra_invertida += palavra[i]\n",
    "\n",
    "if palavra == palavra_invertida:\n",
    "    print(f\"{palavra} é um palíndromo.\")\n",
    "else:\n",
    "    print(f\"{palavra} não é um palíndromo.\")\n"
   ]
  }
 ],
 "metadata": {
  "kernelspec": {
   "display_name": ".venv",
   "language": "python",
   "name": "python3"
  },
  "language_info": {
   "codemirror_mode": {
    "name": "ipython",
    "version": 3
   },
   "file_extension": ".py",
   "mimetype": "text/x-python",
   "name": "python",
   "nbconvert_exporter": "python",
   "pygments_lexer": "ipython3",
   "version": "3.12.3"
  }
 },
 "nbformat": 4,
 "nbformat_minor": 5
}
