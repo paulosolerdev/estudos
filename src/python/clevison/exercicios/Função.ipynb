{
 "cells": [
  {
   "cell_type": "code",
   "execution_count": 2,
   "id": "b8f52005",
   "metadata": {},
   "outputs": [
    {
     "name": "stdout",
     "output_type": "stream",
     "text": [
      "A soma de 5 e 3 é: 8\n"
     ]
    }
   ],
   "source": [
    "\"\"\"\n",
    "1. Função de Soma\n",
    "\n",
    "Crie uma função chamada somar que receba dois números como parâmetros\n",
    "e retorne a soma deles. Em seguida, chame essa função passando dois\n",
    "números e exiba o resultado na tela.\n",
    "\"\"\"\n",
    "\n",
    "def somar(a, b):\n",
    "    \"\"\"\n",
    "    Função que recebe dois números e retorna a soma deles.\n",
    "    \"\"\"\n",
    "    return a + b\n",
    "\n",
    "# Chama a função somar com dois números e exibe o resultado\n",
    "resultado = somar(5, 3)\n",
    "print(f\"A soma de 5 e 3 é: {resultado}\")\n"
   ]
  },
  {
   "cell_type": "code",
   "execution_count": 4,
   "id": "fcd4802f",
   "metadata": {},
   "outputs": [
    {
     "name": "stdout",
     "output_type": "stream",
     "text": [
      "7 é ímpar.\n"
     ]
    }
   ],
   "source": [
    "\"\"\"\n",
    "2. Função de verificação de par ou ímpar\n",
    "\n",
    "Crie uma função chamada par_ou_impar que receba um número como parâmetro\n",
    "e verifique se ele é par ou ímpar. A função deve retornar uma string\n",
    "informando se o número é par ou ímpar. Em seguida, chame essa função\n",
    "passando um número e exiba o resultado na tela.\n",
    "\"\"\"\n",
    "\n",
    "def par_ou_impar(numero):\n",
    "    if numero % 2 == 0:\n",
    "        return f\"{numero} é par.\"\n",
    "    else:\n",
    "        return f\"{numero} é ímpar.\"\n",
    "    \n",
    "# Chama a função par_ou_impar com um número e exibe o resultado\n",
    "resultado = par_ou_impar(7)\n",
    "print(resultado)\n"
   ]
  },
  {
   "cell_type": "code",
   "execution_count": 1,
   "id": "3442c9ba",
   "metadata": {},
   "outputs": [
    {
     "name": "stdout",
     "output_type": "stream",
     "text": [
      "O fatorial de 5 é: 120\n"
     ]
    }
   ],
   "source": [
    "\"\"\"\n",
    "3. Função de cálculo de fatorial\n",
    "Crie uma função chamada fatorial que receba um número inteiro como\n",
    "parâmetro e retorne o fatorial desse número. O fatorial de um número n\n",
    "é o produto de todos os números inteiros de 1 até n. Por exemplo, o\n",
    "fatorial de 5 é 5 * 4 * 3 * 2 * 1 = 120. Em seguida, chame essa\n",
    "função passando um número e exiba o resultado na tela.\n",
    "\"\"\"\n",
    "\n",
    "def fatorial(n):\n",
    "    if n == 0 or n == 1:\n",
    "        return 1\n",
    "    else:\n",
    "        return n * fatorial(n - 1)\n",
    "    \n",
    "# Chama a função fatorial com um número e exibe o resultado\n",
    "resultado = fatorial(5)\n",
    "print(f\"O fatorial de 5 é: {resultado}\")\n"
   ]
  },
  {
   "cell_type": "code",
   "execution_count": 9,
   "id": "9febf109",
   "metadata": {},
   "outputs": [
    {
     "name": "stdout",
     "output_type": "stream",
     "text": [
      "A quantidade de letras na string 'Olá, mundo!' é: 10\n",
      "A quantidade de letras na string 'Python é incrível' é: 15\n",
      "A quantidade de letras na string 'Aprendendo a programar' é: 20\n"
     ]
    }
   ],
   "source": [
    "\"\"\"\n",
    "\n",
    "4. Função para contar letras em uma string\n",
    "\n",
    "Crie uma função chamada contar_letras que receba uma string como\n",
    "parâmetro e retorne a quantidade de letras dessa string, desconsiderando\n",
    "os espaços. Em seguida, chame essa função passando uma string e exiba\n",
    "o resultado na tela.\n",
    "\"\"\"\n",
    "\n",
    "def contar_letras(string):\n",
    "    return len(string.replace(\" \", \"\"))\n",
    "\n",
    "# Chama a função contar_letras com uma string e exibe o resultado\n",
    "string1 = \"Olá, mundo!\"\n",
    "resultado = contar_letras(\"Olá, mundo!\")\n",
    "print(f\"A quantidade de letras na string '{string1}' é: {resultado}\")\n",
    "\n",
    "string2 = \"Python é incrível\"\n",
    "resultado2 = contar_letras(string2)\n",
    "print(f\"A quantidade de letras na string '{string2}' é: {resultado2}\")\n",
    "\n",
    "string3 = \"Aprendendo a programar\"\n",
    "resultado3 = contar_letras(string3)\n",
    "print(f\"A quantidade de letras na string '{string3}' é: {resultado3}\")\n"
   ]
  },
  {
   "cell_type": "code",
   "execution_count": 11,
   "id": "b2538ea6",
   "metadata": {},
   "outputs": [
    {
     "name": "stdout",
     "output_type": "stream",
     "text": [
      "A string invertida é: nohtyP\n"
     ]
    }
   ],
   "source": [
    "\"\"\"\n",
    "5. Função para inverter uma string\n",
    "Crie uma função chamada inverter_string que receba uma string como\n",
    "parâmetro e retorne a string invertida. Em seguida, chame essa função\n",
    "passando uma string e exiba o resultado na tela.\n",
    "\"\"\"\n",
    "\n",
    "def inverter_string(string):\n",
    "    return string[::-1]\n",
    "\n",
    "# Chama a função inverter_string com uma string e exibe o resultado\n",
    "resultado = inverter_string(\"Python\")\n",
    "print(f\"A string invertida é: {resultado}\")\n"
   ]
  },
  {
   "cell_type": "code",
   "execution_count": 1,
   "id": "f9ef445d",
   "metadata": {},
   "outputs": [
    {
     "name": "stdout",
     "output_type": "stream",
     "text": [
      "A média das notas é: 8.17\n"
     ]
    }
   ],
   "source": [
    "\"\"\"\n",
    "6. Função para calcular média\n",
    "\n",
    "Crie uma função chamada calcular_media que receba três notas como\n",
    "parâmetros e retorne a média aritmética dessas notas. Em seguida, chame\n",
    "essa função passando três notas e exiba o resultado na tela.\n",
    "\"\"\"\n",
    "\n",
    "def calcular_media(nota1, nota2, nota3):\n",
    "    return (nota1 + nota2 + nota3) / 3\n",
    "\n",
    "resultado = calcular_media(7.5, 8.0, 9.0)\n",
    "print(f\"A média das notas é: {resultado:.2f}\")\n"
   ]
  },
  {
   "cell_type": "code",
   "execution_count": 4,
   "id": "554e1550",
   "metadata": {},
   "outputs": [
    {
     "name": "stdout",
     "output_type": "stream",
     "text": [
      "A temperatura de 25 graus Celsius é igual a 77.00 graus Fahrenheit.\n",
      "A temperatura de 0 graus Celsius é igual a 32.00 graus Fahrenheit.\n",
      "A temperatura de 100 graus Celsius é igual a 212.00 graus Fahrenheit.\n"
     ]
    }
   ],
   "source": [
    "\"\"\"\n",
    "7. Função para converter Celsius para Fahrenheit\n",
    "Crie uma função chamada celsius_para_fahrenheit que receba uma\n",
    "temperatura em graus Celsius como parâmetro e retorne a temperatura\n",
    "convertida para graus Fahrenheit. A fórmula de conversão é: F = C * 9/5 + 32.\n",
    "Em seguida, chame essa função passando uma temperatura em Celsius e\n",
    "exiba o resultado na tela.\n",
    "\"\"\"\n",
    "\n",
    "def celsius_para_fahrenheit(celsius):\n",
    "    return celsius * 9/5 + 32\n",
    "\n",
    "# Chama a função celsius_para_fahrenheit com uma temperatura em Celsius\n",
    "# e exibe o resultado\n",
    "resultado = celsius_para_fahrenheit(25)\n",
    "print(f\"A temperatura de 25 graus Celsius é igual a {resultado:.2f} graus Fahrenheit.\")\n",
    "\n",
    "resultado2 = celsius_para_fahrenheit(0)\n",
    "print(f\"A temperatura de 0 graus Celsius é igual a {resultado2:.2f} graus Fahrenheit.\")\n",
    "\n",
    "resultado3 = celsius_para_fahrenheit(100)\n",
    "print(f\"A temperatura de 100 graus Celsius é igual a {resultado3:.2f} graus Fahrenheit.\")\n"
   ]
  },
  {
   "cell_type": "code",
   "execution_count": 6,
   "id": "747dd881",
   "metadata": {},
   "outputs": [
    {
     "name": "stdout",
     "output_type": "stream",
     "text": [
      "O número 7 é primo? True\n",
      "O número 10 é primo? False\n"
     ]
    }
   ],
   "source": [
    "\"\"\"\n",
    "8. Função para verificar se um número é primo\n",
    "\"\"\"\n",
    "\n",
    "def eh_primo(numero):\n",
    "    if numero < 2:\n",
    "        return False\n",
    "    for i in range(2, int(numero ** 0.5) + 1):\n",
    "        if numero % i == 0:\n",
    "            return False\n",
    "    return True\n",
    "\n",
    "# Chama a função eh_primo com um número e exibe o resultado\n",
    "resultado = eh_primo(7)\n",
    "print(f\"O número 7 é primo? {resultado}\")\n",
    "\n",
    "resultado2 = eh_primo(10)\n",
    "print(f\"O número 10 é primo? {resultado2}\")\n"
   ]
  },
  {
   "cell_type": "code",
   "execution_count": 1,
   "id": "ec14b536",
   "metadata": {},
   "outputs": [
    {
     "name": "stdout",
     "output_type": "stream",
     "text": [
      "Tabuada do 5:\n",
      "5 x 1 = 5\n",
      "5 x 2 = 10\n",
      "5 x 3 = 15\n",
      "5 x 4 = 20\n",
      "5 x 5 = 25\n",
      "5 x 6 = 30\n",
      "5 x 7 = 35\n",
      "5 x 8 = 40\n",
      "5 x 9 = 45\n",
      "5 x 10 = 50\n"
     ]
    }
   ],
   "source": [
    "\"\"\"\n",
    "9. Função para gerar tabuada\n",
    "\"\"\"\n",
    "\n",
    "def gerar_tabuada(numero):\n",
    "    tabuada = []\n",
    "    for i in range(1, 11):\n",
    "        tabuada.append(f\"{numero} x {i} = {numero * i}\")\n",
    "    return tabuada\n",
    "\n",
    "# Chama a função gerar_tabuada com um número e exibe o resultado\n",
    "resultado = gerar_tabuada(5)\n",
    "print(\"Tabuada do 5:\")\n",
    "for linha in resultado:\n",
    "    print(linha)\n"
   ]
  },
  {
   "cell_type": "code",
   "execution_count": 3,
   "id": "6ba3e040",
   "metadata": {},
   "outputs": [
    {
     "name": "stdout",
     "output_type": "stream",
     "text": [
      "A string 'radar' é um palíndromo? True\n",
      "A string 'python' é um palíndromo? False\n"
     ]
    }
   ],
   "source": [
    "\"\"\"\n",
    "10. Função para verificar palíndromo.\n",
    "\n",
    "Crie uma função chamada eh_palindromo que receba uma string como\n",
    "parâmetro e verifique se ela é um palíndromo (ou seja, se pode ser lida\n",
    "da mesma forma de trás para frente). A função deve retornar True se a\n",
    "string for um palíndromo e False caso contrário. Em seguida, chame essa\n",
    "função passando uma string e exiba o resultado na tela.\n",
    "\"\"\"\n",
    "\n",
    "def eh_palindromo(string):\n",
    "    string = string.replace(\" \", \"\").lower()\n",
    "    return string == string[::-1]\n",
    "\n",
    "# Chama a função eh_palindromo com uma string e exibe o resultado\n",
    "resultado = eh_palindromo(\"radar\")\n",
    "print(f\"A string 'radar' é um palíndromo? {resultado}\")\n",
    "\n",
    "resultado2 = eh_palindromo(\"python\")\n",
    "print(f\"A string 'python' é um palíndromo? {resultado2}\")\n"
   ]
  },
  {
   "cell_type": "code",
   "execution_count": 5,
   "id": "9c71b9fa",
   "metadata": {},
   "outputs": [
    {
     "name": "stdout",
     "output_type": "stream",
     "text": [
      "2 elevado a 3 é: 8\n",
      "5 elevado a 2 é: 25\n"
     ]
    }
   ],
   "source": [
    "\"\"\"\n",
    "11. Função para calcular potência\n",
    "\n",
    "Crie uma função chamada potencia que receba dois números como\n",
    "parâmetros: a base e o expoente. A função deve retornar o resultado da\n",
    "potência. Em seguida, chame essa função passando a base e o expoente\n",
    "e exiba o resultado na tela.\n",
    "\"\"\"\n",
    "\n",
    "def potencia(base, expoente):\n",
    "    return base ** expoente\n",
    "\n",
    "# Chama a função potencia com a base e o expoente e exibe o resultado\n",
    "resultado = potencia(2, 3)\n",
    "print(f\"2 elevado a 3 é: {resultado}\")\n",
    "\n",
    "resultado2 = potencia(5, 2)\n",
    "print(f\"5 elevado a 2 é: {resultado2}\")\n"
   ]
  },
  {
   "cell_type": "code",
   "execution_count": 7,
   "id": "b6be6856",
   "metadata": {},
   "outputs": [
    {
     "name": "stdout",
     "output_type": "stream",
     "text": [
      "3665 segundos equivalem a 1 horas, 1 minutos e 5 segundos.\n",
      "7200 segundos equivalem a 2 horas, 0 minutos e 0 segundos.\n",
      "5000 segundos equivalem a 1 horas, 23 minutos e 20 segundos.\n"
     ]
    }
   ],
   "source": [
    "\"\"\"\n",
    "12. Função de conversão de segundos para horas, minutos e segundos\n",
    "\n",
    "Crie uma função chamada converter_segundos que receba um número de\n",
    "segundos como parâmetro e converta esse valor para horas, minutos e\n",
    "segundos. A função deve retornar uma tupla com os valores de horas,\n",
    "minutos e segundos. Em seguida, chame essa função passando um número\n",
    "de segundos e exiba o resultado na tela.\n",
    "\"\"\"\n",
    "\n",
    "def converter_segundos(segundos):\n",
    "    horas = segundos // 3600\n",
    "    minutos = (segundos % 3600) // 60\n",
    "    segundos_restantes = segundos % 60\n",
    "    return horas, minutos, segundos_restantes\n",
    "\n",
    "# Chama a função converter_segundos com um número de segundos e exibe o resultado\n",
    "resultado = converter_segundos(3665)\n",
    "print(f\"3665 segundos equivalem a {resultado[0]} horas, {resultado[1]} minutos e {resultado[2]} segundos.\")\n",
    "resultado2 = converter_segundos(7200)\n",
    "print(f\"7200 segundos equivalem a {resultado2[0]} horas, {resultado2[1]} minutos e {resultado2[2]} segundos.\")\n",
    "resultado3 = converter_segundos(5000)\n",
    "print(f\"5000 segundos equivalem a {resultado3[0]} horas, {resultado3[1]} minutos e {resultado3[2]} segundos.\")\n"
   ]
  },
  {
   "cell_type": "code",
   "execution_count": 12,
   "id": "4c3820d2",
   "metadata": {},
   "outputs": [
    {
     "name": "stdout",
     "output_type": "stream",
     "text": [
      "A quantidade de vogais na string 'Olá, mundo!' é: 4\n",
      "A quantidade de vogais na string 'Python é incrível' é: 5\n",
      "A quantidade de vogais na string 'Aprendendo a programar' é: 8\n"
     ]
    }
   ],
   "source": [
    "\"\"\"\n",
    "13. Função para contar vogais\n",
    "\n",
    "Crie uma função chamada contar_vogais que receba uma string como\n",
    "parâmetro e retorne a quantidade de vogais (a, e, i, o, u) presentes\n",
    "nela. A contagem deve ser feita de forma case-insensitive (ou seja,\n",
    "desconsiderando maiúsculas e minúsculas). Em seguida, chame essa\n",
    "função passando uma string e exiba o resultado na tela.\n",
    "\"\"\"\n",
    "\n",
    "import unicodedata\n",
    "\n",
    "def remover_acentos(texto):\n",
    "    return ''.join(\n",
    "        c for c in unicodedata.normalize('NFD', texto)\n",
    "        if unicodedata.category(c) != 'Mn'\n",
    "    )\n",
    "\n",
    "def contar_vogais(string):\n",
    "    string = remover_acentos(string.lower())  # Remove acentos e converte para minúsculas\n",
    "    vogais = \"aeiou\"\n",
    "    contador = 0\n",
    "    for letra in string:\n",
    "        if letra in vogais:\n",
    "            contador += 1\n",
    "    return contador\n",
    "\n",
    "# Chama a função contar_vogais com uma string e exibe o resultado\n",
    "resultado = contar_vogais(\"Olá, mundo!\")\n",
    "print(f\"A quantidade de vogais na string 'Olá, mundo!' é: {resultado}\")\n",
    "resultado2 = contar_vogais(\"Python é incrível\")\n",
    "print(f\"A quantidade de vogais na string 'Python é incrível' é: {resultado2}\")\n",
    "resultado3 = contar_vogais(\"Aprendendo a programar\")\n",
    "print(f\"A quantidade de vogais na string 'Aprendendo a programar' é: {resultado3}\")\n"
   ]
  },
  {
   "cell_type": "code",
   "execution_count": 14,
   "id": "1e7aabf6",
   "metadata": {},
   "outputs": [
    {
     "name": "stdout",
     "output_type": "stream",
     "text": [
      "A quantidade de palavras na string 'Olá, mundo! Como você está?' é: 5\n",
      "A quantidade de palavras na string 'Python é incrível' é: 3\n",
      "A quantidade de palavras na string 'Aprendendo a programar' é: 3\n"
     ]
    }
   ],
   "source": [
    "\"\"\"\n",
    "14. Função para contar palavras em uma string\n",
    "Crie uma função chamada contar_palavras que receba uma string como\n",
    "parâmetro e retorne a quantidade de palavras presentes nela. A\n",
    "contagem deve ser feita considerando que as palavras são separadas\n",
    "por espaços. Em seguida, chame essa função passando uma string e\n",
    "exiba o resultado na tela.\n",
    "\"\"\"\n",
    "\n",
    "def contar_palavras(string):\n",
    "    return len(string.split())\n",
    "\n",
    "# Chama a função contar_palavras com uma string e exibe o resultado\n",
    "resultado = contar_palavras(\"Olá, mundo! Como você está?\")\n",
    "print(f\"A quantidade de palavras na string 'Olá, mundo! Como você está?' é: {resultado}\")\n",
    "resultado2 = contar_palavras(\"Python é incrível\")\n",
    "print(f\"A quantidade de palavras na string 'Python é incrível' é: {resultado2}\")\n",
    "resultado3 = contar_palavras(\"Aprendendo a programar\")\n",
    "print(f\"A quantidade de palavras na string 'Aprendendo a programar' é: {resultado3}\")\n"
   ]
  },
  {
   "cell_type": "code",
   "execution_count": 1,
   "id": "32d7b5f5",
   "metadata": {},
   "outputs": [
    {
     "name": "stdout",
     "output_type": "stream",
     "text": [
      "A lista ordenada é: [1, 2, 5, 5, 6, 9]\n",
      "A lista ordenada é: [1, 1, 3, 4, 5, 9]\n",
      "A lista ordenada é: [1, 5, 7, 8, 9, 10]\n"
     ]
    }
   ],
   "source": [
    "\"\"\"\n",
    "15. Função para ordenar uma lista\n",
    "\n",
    "Crie uma função chamada ordenar_lista que receba uma lista de números\n",
    "e retorne a lista ordenada.\n",
    "\"\"\"\n",
    "\n",
    "def ordenar_lista(lista):\n",
    "    return sorted(lista)\n",
    "\n",
    "# Chama a função ordenar_lista com uma lista de números e exibe o resultado\n",
    "resultado = ordenar_lista([5, 2, 9, 1, 5, 6])\n",
    "print(f\"A lista ordenada é: {resultado}\")\n",
    "resultado2 = ordenar_lista([3, 1, 4, 1, 5, 9])\n",
    "print(f\"A lista ordenada é: {resultado2}\")\n",
    "resultado3 = ordenar_lista([10, 7, 8, 9, 1, 5])\n",
    "print(f\"A lista ordenada é: {resultado3}\")\n"
   ]
  },
  {
   "cell_type": "code",
   "execution_count": null,
   "id": "3fbe0101",
   "metadata": {},
   "outputs": [
    {
     "name": "stdout",
     "output_type": "stream",
     "text": [
      "O maior número é: 9 e o menor número é: 1\n",
      "O maior número é: 9 e o menor número é: 1\n",
      "O maior número é: 10 e o menor número é: 1\n"
     ]
    }
   ],
   "source": [
    "\"\"\"\n",
    "16. Função para encontrar o maior e o menor número em uma lista\n",
    "Crie uma função chamada encontrar_maior_menor que receba uma lista de\n",
    "números e retorne o maior e o menor número da lista. A função deve\n",
    "retornar uma tupla com o maior e o menor número. Em seguida, chame\n",
    "essa função passando uma lista de números e exiba o resultado na tela.\n",
    "\"\"\"\n",
    "\n",
    "def encontrar_maior_menor(lista):\n",
    "    maior = max(lista)\n",
    "    menor = min(lista)\n",
    "    return maior, menor\n",
    "\n",
    "# Chama a função encontrar_maior_menor com uma lista de números e exibe o resultado\n",
    "resultado = encontrar_maior_menor([5, 2, 9, 1, 5, 6])\n",
    "print(f\"O maior número é: {resultado[0]} e o menor número é: {resultado[1]}\")\n",
    "resultado2 = encontrar_maior_menor([3, 1, 4, 1, 5, 9])\n",
    "print(f\"O maior número é: {resultado2[0]} e o menor número é: {resultado2[1]}\")\n",
    "resultado3 = encontrar_maior_menor([10, 7, 8, 9, 1, 5])\n",
    "print(f\"O maior número é: {resultado3[0]} e o menor número é: {resultado3[1]}\")\n"
   ]
  }
 ],
 "metadata": {
  "kernelspec": {
   "display_name": ".venv",
   "language": "python",
   "name": "python3"
  },
  "language_info": {
   "codemirror_mode": {
    "name": "ipython",
    "version": 3
   },
   "file_extension": ".py",
   "mimetype": "text/x-python",
   "name": "python",
   "nbconvert_exporter": "python",
   "pygments_lexer": "ipython3",
   "version": "3.12.3"
  }
 },
 "nbformat": 4,
 "nbformat_minor": 5
}
