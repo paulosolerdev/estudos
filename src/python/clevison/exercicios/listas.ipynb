{
 "cells": [
  {
   "cell_type": "code",
   "execution_count": 3,
   "id": "dab5d348",
   "metadata": {},
   "outputs": [
    {
     "name": "stdout",
     "output_type": "stream",
     "text": [
      "O maior número da lista é: 42\n",
      "O menor número da lista é: 3\n",
      "$==============================================================$\n",
      "A lista original é: [10, 5, 8, 23, 42, 15, 7, 3, 12, 6]\n",
      "O tamanho da lista é: 10\n",
      "A soma dos números da lista é: 131\n",
      "A média dos números da lista é: 13.1\n"
     ]
    }
   ],
   "source": [
    "\"\"\"\n",
    "1. Crie uma lista com 10 números inteiros e exiba o\n",
    "maior e o menor número da lista.\n",
    "\n",
    "Objetivo: Manipular listas e utilizar funções min() e max().\n",
    "\"\"\"\n",
    "\n",
    "# Criando uma lista com 10 números inteiros\n",
    "numeros = [10, 5, 8, 23, 42, 15, 7, 3, 12, 6]\n",
    "\n",
    "# Encontrando o maior e o menor número da lista\n",
    "maior_numero = max(numeros)\n",
    "menor_numero = min(numeros)\n",
    "\n",
    "# Exibindo os resultados\n",
    "print(f\"O maior número da lista é: {maior_numero}\")\n",
    "print(f\"O menor número da lista é: {menor_numero}\")\n",
    "\n",
    "print(\"$==============================================================$\")\n",
    "\n",
    "# Exibindo a lista original\n",
    "print(f\"A lista original é: {numeros}\")\n",
    "\n",
    "# Exibindo o tamanho da lista\n",
    "print(f\"O tamanho da lista é: {len(numeros)}\")\n",
    "\n",
    "# Exibindo a soma dos números da lista\n",
    "print(f\"A soma dos números da lista é: {sum(numeros)}\")\n",
    "\n",
    "# Exibindo a média dos números da lista\n",
    "print(f\"A média dos números da lista é: {sum(numeros) / len(numeros)}\")\n"
   ]
  },
  {
   "cell_type": "code",
   "execution_count": 5,
   "id": "0f89b413",
   "metadata": {},
   "outputs": [
    {
     "name": "stdout",
     "output_type": "stream",
     "text": [
      "A soma dos números é: 15\n"
     ]
    }
   ],
   "source": [
    "\"\"\"\n",
    "2. Peça ao usuário 5 números e armazene-os em uma lista. Em seguida,\n",
    "exiba a soma de todos os números.\n",
    "\n",
    "Objetivo: Praticar entrada de dados, laços de repetição e manipulação\n",
    "de listas.\n",
    "\"\"\"\n",
    "\n",
    "# Inicializando uma lista vazia\n",
    "numeros_usuario = []\n",
    "\n",
    "# Solicitando 5 números ao usuário\n",
    "for i in range(5):\n",
    "    numero = int(input(f\"Digite o {i + 1}º número: \"))\n",
    "    numeros_usuario.append(numero)\n",
    "\n",
    "# Calculando a soma dos números\n",
    "soma = sum(numeros_usuario)\n",
    "\n",
    "# Exibindo o resultado\n",
    "print(f\"A soma dos números é: {soma}\")\n"
   ]
  },
  {
   "cell_type": "code",
   "execution_count": 7,
   "id": "9fe43e96",
   "metadata": {},
   "outputs": [
    {
     "name": "stdout",
     "output_type": "stream",
     "text": [
      "A lista original é: [1, 2, 3, 4, 5, 6, 7, 8, 9, 10]\n",
      "A lista com números ímpares é: [1, 3, 5, 7, 9]\n"
     ]
    }
   ],
   "source": [
    "\"\"\"\n",
    "3. Dada uma lista de números, remova todos os números pares.\n",
    "\n",
    "Objetivo: Filtrar elementos de uma lista.\n",
    "\"\"\"\n",
    "\n",
    "# Criando uma lista de números\n",
    "numeros = [1, 2, 3, 4, 5, 6, 7, 8, 9, 10]\n",
    "\n",
    "# Removendo os números pares da lista\n",
    "numeros_impares = [num for num in numeros if num % 2 != 0]\n",
    "\n",
    "# Exibindo a lista original e a lista filtrada\n",
    "print(f\"A lista original é: {numeros}\")\n",
    "print(f\"A lista com números ímpares é: {numeros_impares}\")\n"
   ]
  },
  {
   "cell_type": "code",
   "execution_count": 9,
   "id": "d162d0df",
   "metadata": {},
   "outputs": [
    {
     "name": "stdout",
     "output_type": "stream",
     "text": [
      "A lista de nomes em ordem alfabética é: ['Ana', 'Bruna', 'Carlos', 'Eduardo', 'Fernanda', 'Gustavo', 'Juliana', 'Lucas', 'Mariana', 'Roberto']\n"
     ]
    }
   ],
   "source": [
    "\"\"\"\n",
    "4. Crie uma lista com 10 nomes e ordene-a em ordem alfabética.\n",
    "\n",
    "Objetivo: Manipulação de listas de strings e ordenação.\n",
    "\"\"\"\n",
    "\n",
    "# Criando uma lista de nomes\n",
    "nomes = [\"Ana\", \"Carlos\", \"Bruna\", \"Eduardo\", \"Fernanda\", \"Gustavo\", \"Juliana\", \"Lucas\", \"Mariana\", \"Roberto\"]\n",
    "\n",
    "# Ordenando a lista de nomes em ordem alfabética\n",
    "nomes.sort()\n",
    "\n",
    "# Exibindo a lista ordenada\n",
    "print(f\"A lista de nomes em ordem alfabética é: {nomes}\")\n"
   ]
  },
  {
   "cell_type": "code",
   "execution_count": 12,
   "id": "910dd32f",
   "metadata": {},
   "outputs": [
    {
     "name": "stdout",
     "output_type": "stream",
     "text": [
      "Segundo maior número é: 23\n"
     ]
    }
   ],
   "source": [
    "\"\"\"\n",
    "5. Crie uma lista de números e encontre o segundo maior número.\n",
    "\n",
    "Objetivo: Manipular listas para encontrar elementos com base em \n",
    "sua ordem.\n",
    "\"\"\"\n",
    "\n",
    "# Criando uma lista de números\n",
    "numeros = [10, 5, 8, 23, 42, 15, 7, 3, 12, 6]\n",
    "\n",
    "numeros_unicos = list(set(numeros))  # Removendo duplicatas\n",
    "numeros_unicos.sort(reverse=True)  # Ordenando em ordem decrescente\n",
    "\n",
    "print(f'Segundo maior número é: {numeros_unicos[1]}')\n"
   ]
  },
  {
   "cell_type": "code",
   "execution_count": 16,
   "id": "073bb159",
   "metadata": {},
   "outputs": [
    {
     "name": "stdout",
     "output_type": "stream",
     "text": [
      "A lista de palavras invertida é: [' fé', ' luz', 'amor']\n"
     ]
    }
   ],
   "source": [
    "\"\"\"\n",
    "6. Peça ao usuário uma lista de palavras separadas por vírgula e exiba\n",
    "a lista com as palavras invertidas (de trás para frente).\n",
    "\n",
    "Objetivo: Manipular strings e listas, reverter listas.\n",
    "\"\"\"\n",
    "\n",
    "# Solicitando uma lista de palavras ao usuário\n",
    "palavras_usuario = input(\"Digite uma lista de palavras separadas por vírgula: \").split(\",\")\n",
    "\n",
    "palavras_invertidas = palavras_usuario[::-1]  # Invertendo a lista de palavras\n",
    "\n",
    "# Exibindo a lista invertida\n",
    "print(f\"A lista de palavras invertida é: {palavras_invertidas}\")\n"
   ]
  },
  {
   "cell_type": "code",
   "execution_count": 18,
   "id": "3ba0a49d",
   "metadata": {},
   "outputs": [
    {
     "name": "stdout",
     "output_type": "stream",
     "text": [
      "A lista original é: [5, 12, 8, 20, 3, 15, 7, 25, 10]\n",
      "A lista com números maiores que 10 é: [12, 20, 15, 25]\n"
     ]
    }
   ],
   "source": [
    "\"\"\"\n",
    "7. Dada uma lista de números, crie uma nova lista contendo apenas os\n",
    "números maiores que 10.\n",
    "\n",
    "Objetivo: Filtragem de listas com base em condições.\n",
    "\"\"\"\n",
    "\n",
    "# Criando uma lista de números\n",
    "numeros = [5, 12, 8, 20, 3, 15, 7, 25, 10]\n",
    "\n",
    "# Filtrando os números maiores que 10\n",
    "numeros_maiores_que_10 = [num for num in numeros if num > 10]\n",
    "\n",
    "# Exibindo a lista original e a lista filtrada\n",
    "print(f\"A lista original é: {numeros}\")\n",
    "print(f\"A lista com números maiores que 10 é: {numeros_maiores_que_10}\")\n"
   ]
  },
  {
   "cell_type": "code",
   "execution_count": 23,
   "id": "aed7c8fa",
   "metadata": {},
   "outputs": [
    {
     "name": "stdout",
     "output_type": "stream",
     "text": [
      "A fruta melão não está na lista.\n"
     ]
    }
   ],
   "source": [
    "\"\"\"\n",
    "8. Verifique se uma lista contém um valor específico.\n",
    "\n",
    "Objetivo: Usar operadores de pertencimento e manipulação de listas.\n",
    "\"\"\"\n",
    "\n",
    "frutas = [\"maçã\", \"banana\", \"laranja\", \"uva\", \"manga\"]\n",
    "fruta_procurada = input(\"Digite o nome de uma fruta: \")\n",
    "if fruta_procurada in frutas:\n",
    "    print(f\"A fruta {fruta_procurada} está na lista.\")\n",
    "else:\n",
    "    print(f\"A fruta {fruta_procurada} não está na lista.\")\n"
   ]
  },
  {
   "cell_type": "code",
   "execution_count": 25,
   "id": "adc79947",
   "metadata": {},
   "outputs": [
    {
     "name": "stdout",
     "output_type": "stream",
     "text": [
      "A lista combinada sem duplicatas é: [1, 2, 3, 4, 5, 6, 7, 8]\n"
     ]
    }
   ],
   "source": [
    "\"\"\"\n",
    "9. Combine duas listas de números, remova os duplicados e exiba a lista\n",
    "resultante.\n",
    "\n",
    "Objetivo: Manipular várias listas e remover elementos duplicados.\n",
    "\"\"\"\n",
    "\n",
    "# Criando duas listas de números\n",
    "numeros1 = [1, 2, 3, 4, 5]\n",
    "numeros2 = [4, 5, 6, 7, 8]\n",
    "\n",
    "# Combinando as listas e removendo duplicatas\n",
    "numeros_combinados = list(set(numeros1 + numeros2))\n",
    "\n",
    "# Exibindo a lista resultante\n",
    "print(f\"A lista combinada sem duplicatas é: {numeros_combinados}\")\n"
   ]
  },
  {
   "cell_type": "code",
   "execution_count": 27,
   "id": "2aa2dd9a",
   "metadata": {},
   "outputs": [
    {
     "name": "stdout",
     "output_type": "stream",
     "text": [
      "A lista original é: [4, 2, 5, 3, 1]\n",
      "A lista ordenada é: [1, 2, 3, 4, 5]\n"
     ]
    }
   ],
   "source": [
    "\"\"\"\n",
    "10. Peça ao usuário 5 números e exiba a lista original e a lista\n",
    "ordenada sem alterar a original.\n",
    "\n",
    "Objetivo: Praticar ordenação de listas e cópia de listas.\n",
    "\"\"\"\n",
    "\n",
    "# Inicializando uma lista vazia\n",
    "numeros_usuario = []\n",
    "\n",
    "# Solicitando 5 números ao usuário\n",
    "for i in range(5):\n",
    "    numero = int(input(f\"Digite o {i + 1}º número: \"))\n",
    "    numeros_usuario.append(numero)\n",
    "\n",
    "# Exibindo a lista original\n",
    "print(f\"A lista original é: {numeros_usuario}\")\n",
    "\n",
    "# Ordenando a lista original e exibindo a lista ordenada\n",
    "numeros_ordenados = sorted(numeros_usuario)\n",
    "print(f\"A lista ordenada é: {numeros_ordenados}\")\n"
   ]
  },
  {
   "cell_type": "code",
   "execution_count": 31,
   "id": "f5dbdf99",
   "metadata": {},
   "outputs": [
    {
     "name": "stdout",
     "output_type": "stream",
     "text": [
      "Média dos alunos:\n",
      "Ana: 9.33\n",
      "Maria: 9.00\n",
      "João: 8.00\n",
      "Carlos: 6.00\n"
     ]
    }
   ],
   "source": [
    "\"\"\"\n",
    "11. Crie uma lista de listas que contenha o nome de alunos e suas\n",
    "notas. (exemplo: [[\"João\", 8, 7, 9], [\"Maria\", 10, 9, 8]])\n",
    "\n",
    "Calcule e exiba a média de cada aluno e a lista ordenada\n",
    "dos alunos pela média, de forma decrescente.\n",
    "\n",
    "Objetivo: Trabalhar com listas aninhadas e calcular médias e realizar\n",
    "ordenação com base em critérios.\n",
    "\"\"\"\n",
    "\n",
    "# Criando uma lista de listas com nomes e notas\n",
    "alunos_notas = [\n",
    "    [\"João\", 8, 7, 9],\n",
    "    [\"Maria\", 10, 9, 8],\n",
    "    [\"Carlos\", 6, 7, 5],\n",
    "    [\"Ana\", 9, 10, 9]\n",
    "]\n",
    "# Calculando a média de cada aluno\n",
    "alunos_medias = []\n",
    "\n",
    "for aluno in alunos_notas:\n",
    "    nome = aluno[0]\n",
    "    notas = aluno[1:]\n",
    "    media = sum(notas) / len(notas)\n",
    "    alunos_medias.append([nome, media])\n",
    "\n",
    "# Ordenando a lista de alunos pela média em ordem decrescente\n",
    "alunos_medias.sort(key=lambda x: x[1], reverse=True)\n",
    "\n",
    "# Exibindo a média de cada aluno\n",
    "print(\"Média dos alunos:\")\n",
    "for aluno in alunos_medias:\n",
    "    print(f\"{aluno[0]}: {aluno[1]:.2f}\")\n"
   ]
  },
  {
   "cell_type": "code",
   "execution_count": 34,
   "id": "6d2498f9",
   "metadata": {},
   "outputs": [
    {
     "name": "stdout",
     "output_type": "stream",
     "text": [
      "A interseção das listas é: [4, 5]\n"
     ]
    }
   ],
   "source": [
    "\"\"\"\n",
    "12. Implemente uma função que receba duas listas e retorne uma lista\n",
    "contendo apenas os elementos que estão presentes em ambas as listas.\n",
    "(Interseção de listas)\n",
    "\n",
    "Objetivo: Manipular listas para realizar a interseção de conjuntos,\n",
    "trabalhando com lógica de pertencimento.\n",
    "\"\"\"\n",
    "\n",
    "def intersecao_listas(lista1, lista2):\n",
    "    #return list(set(lista1) & set(lista2))\n",
    "    return [item for item in lista1 if item in lista2]\n",
    "\n",
    "# Criando duas listas de exemplo\n",
    "lista1 = [1, 2, 3, 4, 5]\n",
    "lista2 = [4, 5, 6, 7, 8]\n",
    "\n",
    "# Chamando a função e exibindo o resultado\n",
    "resultado = intersecao_listas(lista1, lista2)\n",
    "print(f\"A interseção das listas é: {resultado}\")\n"
   ]
  },
  {
   "cell_type": "code",
   "execution_count": 38,
   "id": "fd3716dd",
   "metadata": {},
   "outputs": [
    {
     "name": "stdout",
     "output_type": "stream",
     "text": [
      "Números positivos: [10, 8, 42, 7, 12, 56], Total: 6\n",
      "Números negativos: [-5, -23, -15, -3, -6], Total: 5\n"
     ]
    }
   ],
   "source": [
    "\"\"\"\n",
    "13. Dada uma lista de números inteiros, crie uma função que separe\n",
    "a lista em duas listas: uma com números positivos e outra com\n",
    "números negativos. Exiba as duas listas e seus tamanhos.\n",
    "\n",
    "Objetivo: Separar dados de uma lista em múltiplas listas com base\n",
    "em uma condição e usar compreensão de listas.\n",
    "\"\"\"\n",
    "\n",
    "def separar_numeros(lista):\n",
    "    positivos = [num for num in lista if num > 0]\n",
    "    negativos = [num for num in lista if num < 0]\n",
    "    return positivos, negativos\n",
    "\n",
    "# Criando uma lista de números inteiros\n",
    "numeros = [10, -5, 8, -23, 42, -15, 7, -3, 12, -6, 56]\n",
    "\n",
    "# Chamando a função e armazenando os resultados\n",
    "numeros_positivos, numeros_negativos = separar_numeros(numeros)\n",
    "\n",
    "# Exibindo as listas e seus tamanhos\n",
    "print(f\"Números positivos: {numeros_positivos}, Total: {len(numeros_positivos)}\")\n",
    "print(f\"Números negativos: {numeros_negativos}, Total: {len(numeros_negativos)}\")\n"
   ]
  },
  {
   "cell_type": "code",
   "execution_count": 40,
   "id": "6ff1df6d",
   "metadata": {},
   "outputs": [
    {
     "name": "stdout",
     "output_type": "stream",
     "text": [
      "Palavras agrupadas por comprimento:\n",
      "4: ['maçã', 'kiwi', 'pera']\n",
      "6: ['banana']\n",
      "7: ['laranja', 'abacaxi']\n",
      "3: ['uva']\n"
     ]
    }
   ],
   "source": [
    "\"\"\"\n",
    "14. Dada uma lista de palavras, crie uma função que agrupe essas palavras\n",
    "por seu comprimento. A função deve retornar um dicionário onde as chaves\n",
    "são os comprimentos e os valores são listas de palavras com aquele \n",
    "comprimento.\n",
    "\n",
    "Objetivo: Usar dicionários em conjunto com listas, processamento de\n",
    "strings e organização de dados.\n",
    "\"\"\"\n",
    "\n",
    "def agrupar_por_comprimento(palavras):\n",
    "    dicionario = {}\n",
    "    for palavra in palavras:\n",
    "        comprimento = len(palavra)\n",
    "        if comprimento not in dicionario:\n",
    "            dicionario[comprimento] = []\n",
    "        dicionario[comprimento].append(palavra)\n",
    "    return dicionario\n",
    "\n",
    "# Criando uma lista de palavras\n",
    "palavras = [\"maçã\", \"banana\", \"laranja\", \"uva\", \"kiwi\", \"abacaxi\", \"pera\"]\n",
    "# Chamando a função e armazenando o resultado\n",
    "resultado = agrupar_por_comprimento(palavras)\n",
    "# Exibindo o dicionário resultante\n",
    "print(\"Palavras agrupadas por comprimento:\")\n",
    "for comprimento, lista in resultado.items():\n",
    "    print(f\"{comprimento}: {lista}\")\n"
   ]
  },
  {
   "cell_type": "code",
   "execution_count": 41,
   "id": "3ff1a772",
   "metadata": {},
   "outputs": [
    {
     "name": "stdout",
     "output_type": "stream",
     "text": [
      "Soma dos números pares: 78\n",
      "Soma dos números ímpares: 53\n"
     ]
    }
   ],
   "source": [
    "\"\"\"\n",
    "15. Dada uma lista de números inteiros, escreva uma função que\n",
    "retorne a soma dos números pares e a soma dos números ímpares\n",
    "da lista.\n",
    "\n",
    "Objetivo: Trabalhar com índices de listas e realizar operações\n",
    "matemáticas em listas.\n",
    "\"\"\"\n",
    "\n",
    "def somar_pares_impares(lista):\n",
    "    soma_pares = sum(num for num in lista if num % 2 == 0)\n",
    "    soma_impares = sum(num for num in lista if num % 2 != 0)\n",
    "    return soma_pares, soma_impares\n",
    "\n",
    "# Criando uma lista de números inteiros\n",
    "numeros = [10, 5, 8, 23, 42, 15, 7, 3, 12, 6]\n",
    "# Chamando a função e armazenando os resultados\n",
    "soma_pares, soma_impares = somar_pares_impares(numeros)\n",
    "# Exibindo os resultados\n",
    "print(f\"Soma dos números pares: {soma_pares}\")\n",
    "print(f\"Soma dos números ímpares: {soma_impares}\")\n"
   ]
  }
 ],
 "metadata": {
  "kernelspec": {
   "display_name": ".venv",
   "language": "python",
   "name": "python3"
  },
  "language_info": {
   "codemirror_mode": {
    "name": "ipython",
    "version": 3
   },
   "file_extension": ".py",
   "mimetype": "text/x-python",
   "name": "python",
   "nbconvert_exporter": "python",
   "pygments_lexer": "ipython3",
   "version": "3.12.3"
  }
 },
 "nbformat": 4,
 "nbformat_minor": 5
}
